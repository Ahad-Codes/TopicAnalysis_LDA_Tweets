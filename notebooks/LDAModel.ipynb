{
 "cells": [
  {
   "cell_type": "code",
   "execution_count": 1,
   "metadata": {},
   "outputs": [],
   "source": [
    "import numpy as np"
   ]
  },
  {
   "cell_type": "code",
   "execution_count": 2,
   "metadata": {},
   "outputs": [],
   "source": [
    "covid_sentences = [\n",
    "    \"The COVID-19 vaccine rollout has been effective in reducing the number of cases.\",\n",
    "    \"New variants of the coronavirus are causing a lot of concern among health experts.\",\n",
    "    \"Many people are hesitant about the COVID vaccine due to misinformation.\",\n",
    "    \"Hospitals are overwhelmed due to the surge in COVID-19 cases.\",\n",
    "    \"The pandemic has led to a significant increase in mental health issues worldwide.\",\n",
    "    \"Researchers are studying the long-term effects of COVID-19 on the human body.\",\n",
    "    \"Remote work has become the new norm since the COVID pandemic started.\",\n",
    "    \"Many countries are implementing stricter lockdowns to control the spread of COVID-19.\",\n",
    "]\n"
   ]
  },
  {
   "cell_type": "code",
   "execution_count": null,
   "metadata": {},
   "outputs": [],
   "source": [
    "class LDA():\n",
    "\n",
    "    def __init__(self, docs, k, iterations, alpha, beta):\n",
    "        self.k = k\n",
    "        self.iterations = iterations\n",
    "        self.alpha = alpha\n",
    "        self.beta = beta\n",
    "\n",
    "        self.num_docs = len(docs)\n",
    "        self.vocab = set([word for doc in docs for word in doc])    \n",
    "        \n",
    "        # Counts needed for gibbs sampling\n",
    "        self.doc_topic_count = np.zeros((self.num_docs, self.k))\n",
    "        self.topic_word_count = np.zeros((self.k, len(self.vocab)))\n",
    "        self.topic_total_counts = np.zeros(self.k)\n",
    "        self.doc_lengths = np.zeros(self.num_docs)\n",
    "\n",
    "        \n",
    "\n",
    "\n",
    "    \n",
    "    \n",
    "\n",
    "    "
   ]
  }
 ],
 "metadata": {
  "kernelspec": {
   "display_name": "Python 3",
   "language": "python",
   "name": "python3"
  },
  "language_info": {
   "codemirror_mode": {
    "name": "ipython",
    "version": 3
   },
   "file_extension": ".py",
   "mimetype": "text/x-python",
   "name": "python",
   "nbconvert_exporter": "python",
   "pygments_lexer": "ipython3",
   "version": "3.12.2"
  }
 },
 "nbformat": 4,
 "nbformat_minor": 2
}
