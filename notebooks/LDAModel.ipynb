{
 "cells": [
  {
   "cell_type": "code",
   "execution_count": null,
   "metadata": {},
   "outputs": [],
   "source": [
    "covid_sentences = [\n",
    "    \"The COVID-19 vaccine rollout has been effective in reducing the number of cases.\",\n",
    "    \"New variants of the coronavirus are causing a lot of concern among health experts.\",\n",
    "    \"Many people are hesitant about the COVID vaccine due to misinformation.\",\n",
    "    \"Hospitals are overwhelmed due to the surge in COVID-19 cases.\",\n",
    "    \"The pandemic has led to a significant increase in mental health issues worldwide.\",\n",
    "    \"Researchers are studying the long-term effects of COVID-19 on the human body.\",\n",
    "    \"Remote work has become the new norm since the COVID pandemic started.\",\n",
    "    \"Many countries are implementing stricter lockdowns to control the spread of COVID-19.\",\n",
    "]\n"
   ]
  },
  {
   "cell_type": "code",
   "execution_count": null,
   "metadata": {},
   "outputs": [],
   "source": [
    "class LDA():\n",
    "\n",
    "    def __init__(self, n_topics, n_iter, alpha, beta):\n",
    "        \n",
    "        pass\n",
    "\n",
    "    "
   ]
  }
 ],
 "metadata": {
  "kernelspec": {
   "display_name": "Python 3",
   "language": "python",
   "name": "python3"
  },
  "language_info": {
   "codemirror_mode": {
    "name": "ipython",
    "version": 3
   },
   "file_extension": ".py",
   "mimetype": "text/x-python",
   "name": "python",
   "nbconvert_exporter": "python",
   "pygments_lexer": "ipython3",
   "version": "3.12.2"
  }
 },
 "nbformat": 4,
 "nbformat_minor": 2
}
